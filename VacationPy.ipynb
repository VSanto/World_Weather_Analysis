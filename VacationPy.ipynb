{
 "cells": [
  {
   "cell_type": "code",
   "execution_count": 25,
   "id": "f5c1e3e9",
   "metadata": {},
   "outputs": [],
   "source": [
    "# Import the dependencies.\n",
    "# %matplotlib \n",
    "import pandas as pd\n",
    "import requests\n",
    "# Import the API key.\n",
    "from config import g_key \n",
    "import gmaps\n",
    "# Configure gmaps to use your Google API key.\n",
    "gmaps.configure(api_key=g_key)"
   ]
  },
  {
   "cell_type": "code",
   "execution_count": 26,
   "id": "1027aec5",
   "metadata": {},
   "outputs": [
    {
     "data": {
      "text/html": [
       "<div>\n",
       "<style scoped>\n",
       "    .dataframe tbody tr th:only-of-type {\n",
       "        vertical-align: middle;\n",
       "    }\n",
       "\n",
       "    .dataframe tbody tr th {\n",
       "        vertical-align: top;\n",
       "    }\n",
       "\n",
       "    .dataframe thead th {\n",
       "        text-align: right;\n",
       "    }\n",
       "</style>\n",
       "<table border=\"1\" class=\"dataframe\">\n",
       "  <thead>\n",
       "    <tr style=\"text-align: right;\">\n",
       "      <th></th>\n",
       "      <th>City_ID</th>\n",
       "      <th>City</th>\n",
       "      <th>Country</th>\n",
       "      <th>Date</th>\n",
       "      <th>Lat</th>\n",
       "      <th>Lng</th>\n",
       "      <th>Max Temp</th>\n",
       "      <th>Humidity</th>\n",
       "      <th>Cloudiness</th>\n",
       "      <th>Wind Speed</th>\n",
       "    </tr>\n",
       "  </thead>\n",
       "  <tbody>\n",
       "    <tr>\n",
       "      <th>0</th>\n",
       "      <td>0</td>\n",
       "      <td>Mataura</td>\n",
       "      <td>NZ</td>\n",
       "      <td>2022-04-03 18:03:13</td>\n",
       "      <td>-46.1927</td>\n",
       "      <td>168.8643</td>\n",
       "      <td>44.42</td>\n",
       "      <td>98</td>\n",
       "      <td>69</td>\n",
       "      <td>1.83</td>\n",
       "    </tr>\n",
       "    <tr>\n",
       "      <th>1</th>\n",
       "      <td>1</td>\n",
       "      <td>Fukue</td>\n",
       "      <td>JP</td>\n",
       "      <td>2022-04-03 18:03:14</td>\n",
       "      <td>32.6881</td>\n",
       "      <td>128.8419</td>\n",
       "      <td>55.44</td>\n",
       "      <td>56</td>\n",
       "      <td>0</td>\n",
       "      <td>17.78</td>\n",
       "    </tr>\n",
       "    <tr>\n",
       "      <th>2</th>\n",
       "      <td>2</td>\n",
       "      <td>Busselton</td>\n",
       "      <td>AU</td>\n",
       "      <td>2022-04-03 18:03:14</td>\n",
       "      <td>-33.6500</td>\n",
       "      <td>115.3333</td>\n",
       "      <td>63.16</td>\n",
       "      <td>84</td>\n",
       "      <td>50</td>\n",
       "      <td>15.41</td>\n",
       "    </tr>\n",
       "    <tr>\n",
       "      <th>3</th>\n",
       "      <td>3</td>\n",
       "      <td>Kapaa</td>\n",
       "      <td>US</td>\n",
       "      <td>2022-04-03 18:03:14</td>\n",
       "      <td>22.0752</td>\n",
       "      <td>-159.3190</td>\n",
       "      <td>75.18</td>\n",
       "      <td>86</td>\n",
       "      <td>62</td>\n",
       "      <td>5.01</td>\n",
       "    </tr>\n",
       "    <tr>\n",
       "      <th>4</th>\n",
       "      <td>4</td>\n",
       "      <td>Atuona</td>\n",
       "      <td>PF</td>\n",
       "      <td>2022-04-03 18:03:15</td>\n",
       "      <td>-9.8000</td>\n",
       "      <td>-139.0333</td>\n",
       "      <td>79.54</td>\n",
       "      <td>70</td>\n",
       "      <td>91</td>\n",
       "      <td>21.52</td>\n",
       "    </tr>\n",
       "  </tbody>\n",
       "</table>\n",
       "</div>"
      ],
      "text/plain": [
       "   City_ID       City Country                 Date      Lat       Lng  \\\n",
       "0        0    Mataura      NZ  2022-04-03 18:03:13 -46.1927  168.8643   \n",
       "1        1      Fukue      JP  2022-04-03 18:03:14  32.6881  128.8419   \n",
       "2        2  Busselton      AU  2022-04-03 18:03:14 -33.6500  115.3333   \n",
       "3        3      Kapaa      US  2022-04-03 18:03:14  22.0752 -159.3190   \n",
       "4        4     Atuona      PF  2022-04-03 18:03:15  -9.8000 -139.0333   \n",
       "\n",
       "   Max Temp  Humidity  Cloudiness  Wind Speed  \n",
       "0     44.42        98          69        1.83  \n",
       "1     55.44        56           0       17.78  \n",
       "2     63.16        84          50       15.41  \n",
       "3     75.18        86          62        5.01  \n",
       "4     79.54        70          91       21.52  "
      ]
     },
     "execution_count": 26,
     "metadata": {},
     "output_type": "execute_result"
    }
   ],
   "source": [
    "# Store the CSV you saved created in part one into a DataFrame.\n",
    "city_data_df = pd.read_csv(\"weather_data/cities.csv\")\n",
    "city_data_df.head()"
   ]
  },
  {
   "cell_type": "code",
   "execution_count": 27,
   "id": "c9e79d46",
   "metadata": {},
   "outputs": [
    {
     "data": {
      "text/plain": [
       "City_ID         int64\n",
       "City           object\n",
       "Country        object\n",
       "Date           object\n",
       "Lat           float64\n",
       "Lng           float64\n",
       "Max Temp      float64\n",
       "Humidity        int64\n",
       "Cloudiness      int64\n",
       "Wind Speed    float64\n",
       "dtype: object"
      ]
     },
     "execution_count": 27,
     "metadata": {},
     "output_type": "execute_result"
    }
   ],
   "source": [
    "# Get the data types.\n",
    "city_data_df.dtypes"
   ]
  },
  {
   "cell_type": "code",
   "execution_count": 28,
   "id": "01a1018b",
   "metadata": {},
   "outputs": [
    {
     "data": {
      "application/vnd.jupyter.widget-view+json": {
       "model_id": "23ea1eef196840bbaf36720ab8f3db85",
       "version_major": 2,
       "version_minor": 0
      },
      "text/plain": [
       "Figure(layout=FigureLayout(height='420px'))"
      ]
     },
     "metadata": {},
     "output_type": "display_data"
    }
   ],
   "source": [
    "# Heatmap of temperature\n",
    "# Get the latitude and longitude.\n",
    "locations = city_data_df[[\"Lat\", \"Lng\"]]\n",
    "# Get the maximum temperature.\n",
    "max_temp = city_data_df[\"Max Temp\"]\n",
    "# Assign the figure variable.\n",
    "fig = gmaps.figure(center=(30.0, 31.0), zoom_level=1.5)\n",
    "# Assign the heatmap variable.\n",
    "heat_layer = gmaps.heatmap_layer(locations, weights=[max(temp,0) for temp in max_temp],\n",
    "dissipating=False, max_intensity=300, point_radius=4) \n",
    "# Add the heatmap layer.\n",
    "fig.add_layer(heat_layer)\n",
    "# Call the figure to plot the data.\n",
    "fig"
   ]
  },
  {
   "cell_type": "code",
   "execution_count": 29,
   "id": "534207a5",
   "metadata": {},
   "outputs": [
    {
     "data": {
      "application/vnd.jupyter.widget-view+json": {
       "model_id": "54b44ee40c0b4a529cc1b5f069413883",
       "version_major": 2,
       "version_minor": 0
      },
      "text/plain": [
       "Figure(layout=FigureLayout(height='420px'))"
      ]
     },
     "metadata": {},
     "output_type": "display_data"
    }
   ],
   "source": [
    "# Heatmap of percent humidity\n",
    "locations = city_data_df[[\"Lat\", \"Lng\"]]\n",
    "humidity = city_data_df[\"Humidity\"]\n",
    "fig = gmaps.figure(center=(30.0, 31.0), zoom_level=1.5)\n",
    "heat_layer = gmaps.heatmap_layer(locations, weights=humidity, dissipating=False, max_intensity=300, point_radius=4)\n",
    "\n",
    "fig.add_layer(heat_layer)\n",
    "# Call the figure to plot the data.\n",
    "fig"
   ]
  },
  {
   "cell_type": "code",
   "execution_count": 51,
   "id": "4ba83f08",
   "metadata": {},
   "outputs": [
    {
     "data": {
      "application/vnd.jupyter.widget-view+json": {
       "model_id": "f87991cd3f3d41599cf957c23bf0ee61",
       "version_major": 2,
       "version_minor": 0
      },
      "text/plain": [
       "Figure(layout=FigureLayout(height='420px'))"
      ]
     },
     "metadata": {},
     "output_type": "display_data"
    }
   ],
   "source": [
    "# Heatmap of percent cloudines\n",
    "locations = city_data_df[[\"Lat\", \"Lng\"]]\n",
    "clouds = city_data_df[\"Cloudiness\"]\n",
    "fig = gmaps.figure(center=(30.0, 31.0), zoom_level=1.5)\n",
    "heat_layer = gmaps.heatmap_layer(locations, weights=clouds, dissipating=False, max_intensity=300, point_radius=4)\n",
    "\n",
    "fig.add_layer(heat_layer)\n",
    "# Call the figure to plot the data.\n",
    "fig"
   ]
  },
  {
   "cell_type": "code",
   "execution_count": 31,
   "id": "a6ed830c",
   "metadata": {},
   "outputs": [
    {
     "data": {
      "application/vnd.jupyter.widget-view+json": {
       "model_id": "89aef6fa0a8842a2a1dc3532cae8ecec",
       "version_major": 2,
       "version_minor": 0
      },
      "text/plain": [
       "Figure(layout=FigureLayout(height='420px'))"
      ]
     },
     "metadata": {},
     "output_type": "display_data"
    }
   ],
   "source": [
    "# Heatmap of percent windspeed\n",
    "locations = city_data_df[[\"Lat\", \"Lng\"]]\n",
    "wind = city_data_df[\"Wind Speed\"]\n",
    "fig = gmaps.figure(center=(30.0, 31.0), zoom_level=1.5)\n",
    "heat_layer = gmaps.heatmap_layer(locations, weights=wind, dissipating=False, max_intensity=300, point_radius=4)\n",
    "\n",
    "fig.add_layer(heat_layer)\n",
    "# Call the figure to plot the data.\n",
    "fig"
   ]
  },
  {
   "cell_type": "code",
   "execution_count": 32,
   "id": "2d4b7965",
   "metadata": {},
   "outputs": [],
   "source": [
    "# Ask the customer to add a minimum and maximum temperature value.\n",
    "min_temp = float(input(\"What is the minimum temperature you would like for your trip? \"))\n",
    "max_temp = float(input(\"What is the maximum temperature you would like for your trip? \"))"
   ]
  },
  {
   "cell_type": "code",
   "execution_count": 33,
   "id": "65c1774f",
   "metadata": {},
   "outputs": [
    {
     "data": {
      "text/html": [
       "<div>\n",
       "<style scoped>\n",
       "    .dataframe tbody tr th:only-of-type {\n",
       "        vertical-align: middle;\n",
       "    }\n",
       "\n",
       "    .dataframe tbody tr th {\n",
       "        vertical-align: top;\n",
       "    }\n",
       "\n",
       "    .dataframe thead th {\n",
       "        text-align: right;\n",
       "    }\n",
       "</style>\n",
       "<table border=\"1\" class=\"dataframe\">\n",
       "  <thead>\n",
       "    <tr style=\"text-align: right;\">\n",
       "      <th></th>\n",
       "      <th>City_ID</th>\n",
       "      <th>City</th>\n",
       "      <th>Country</th>\n",
       "      <th>Date</th>\n",
       "      <th>Lat</th>\n",
       "      <th>Lng</th>\n",
       "      <th>Max Temp</th>\n",
       "      <th>Humidity</th>\n",
       "      <th>Cloudiness</th>\n",
       "      <th>Wind Speed</th>\n",
       "    </tr>\n",
       "  </thead>\n",
       "  <tbody>\n",
       "    <tr>\n",
       "      <th>3</th>\n",
       "      <td>3</td>\n",
       "      <td>Kapaa</td>\n",
       "      <td>US</td>\n",
       "      <td>2022-04-03 18:03:14</td>\n",
       "      <td>22.0752</td>\n",
       "      <td>-159.3190</td>\n",
       "      <td>75.18</td>\n",
       "      <td>86</td>\n",
       "      <td>62</td>\n",
       "      <td>5.01</td>\n",
       "    </tr>\n",
       "    <tr>\n",
       "      <th>4</th>\n",
       "      <td>4</td>\n",
       "      <td>Atuona</td>\n",
       "      <td>PF</td>\n",
       "      <td>2022-04-03 18:03:15</td>\n",
       "      <td>-9.8000</td>\n",
       "      <td>-139.0333</td>\n",
       "      <td>79.54</td>\n",
       "      <td>70</td>\n",
       "      <td>91</td>\n",
       "      <td>21.52</td>\n",
       "    </tr>\n",
       "    <tr>\n",
       "      <th>5</th>\n",
       "      <td>5</td>\n",
       "      <td>Rikitea</td>\n",
       "      <td>PF</td>\n",
       "      <td>2022-04-03 18:03:15</td>\n",
       "      <td>-23.1203</td>\n",
       "      <td>-134.9692</td>\n",
       "      <td>76.62</td>\n",
       "      <td>65</td>\n",
       "      <td>52</td>\n",
       "      <td>9.10</td>\n",
       "    </tr>\n",
       "    <tr>\n",
       "      <th>9</th>\n",
       "      <td>9</td>\n",
       "      <td>Muisne</td>\n",
       "      <td>EC</td>\n",
       "      <td>2022-04-03 18:03:17</td>\n",
       "      <td>0.6000</td>\n",
       "      <td>-80.0333</td>\n",
       "      <td>81.64</td>\n",
       "      <td>76</td>\n",
       "      <td>91</td>\n",
       "      <td>10.00</td>\n",
       "    </tr>\n",
       "    <tr>\n",
       "      <th>12</th>\n",
       "      <td>12</td>\n",
       "      <td>Geraldton</td>\n",
       "      <td>AU</td>\n",
       "      <td>2022-04-03 18:03:04</td>\n",
       "      <td>-28.7667</td>\n",
       "      <td>114.6000</td>\n",
       "      <td>72.01</td>\n",
       "      <td>88</td>\n",
       "      <td>75</td>\n",
       "      <td>17.27</td>\n",
       "    </tr>\n",
       "    <tr>\n",
       "      <th>17</th>\n",
       "      <td>17</td>\n",
       "      <td>Bambous Virieux</td>\n",
       "      <td>MU</td>\n",
       "      <td>2022-04-03 18:03:19</td>\n",
       "      <td>-20.3428</td>\n",
       "      <td>57.7575</td>\n",
       "      <td>78.22</td>\n",
       "      <td>78</td>\n",
       "      <td>56</td>\n",
       "      <td>13.76</td>\n",
       "    </tr>\n",
       "    <tr>\n",
       "      <th>18</th>\n",
       "      <td>18</td>\n",
       "      <td>Kudahuvadhoo</td>\n",
       "      <td>MV</td>\n",
       "      <td>2022-04-03 18:03:20</td>\n",
       "      <td>2.6708</td>\n",
       "      <td>72.8944</td>\n",
       "      <td>83.26</td>\n",
       "      <td>62</td>\n",
       "      <td>11</td>\n",
       "      <td>1.77</td>\n",
       "    </tr>\n",
       "    <tr>\n",
       "      <th>20</th>\n",
       "      <td>20</td>\n",
       "      <td>Hilo</td>\n",
       "      <td>US</td>\n",
       "      <td>2022-04-03 18:03:20</td>\n",
       "      <td>19.7297</td>\n",
       "      <td>-155.0900</td>\n",
       "      <td>74.25</td>\n",
       "      <td>97</td>\n",
       "      <td>87</td>\n",
       "      <td>1.01</td>\n",
       "    </tr>\n",
       "    <tr>\n",
       "      <th>21</th>\n",
       "      <td>21</td>\n",
       "      <td>Cayenne</td>\n",
       "      <td>GF</td>\n",
       "      <td>2022-04-03 18:00:09</td>\n",
       "      <td>4.9333</td>\n",
       "      <td>-52.3333</td>\n",
       "      <td>84.09</td>\n",
       "      <td>1</td>\n",
       "      <td>100</td>\n",
       "      <td>10.36</td>\n",
       "    </tr>\n",
       "    <tr>\n",
       "      <th>28</th>\n",
       "      <td>28</td>\n",
       "      <td>Port Shepstone</td>\n",
       "      <td>ZA</td>\n",
       "      <td>2022-04-03 18:03:23</td>\n",
       "      <td>-30.7414</td>\n",
       "      <td>30.4550</td>\n",
       "      <td>73.22</td>\n",
       "      <td>86</td>\n",
       "      <td>86</td>\n",
       "      <td>4.63</td>\n",
       "    </tr>\n",
       "  </tbody>\n",
       "</table>\n",
       "</div>"
      ],
      "text/plain": [
       "    City_ID             City Country                 Date      Lat       Lng  \\\n",
       "3         3            Kapaa      US  2022-04-03 18:03:14  22.0752 -159.3190   \n",
       "4         4           Atuona      PF  2022-04-03 18:03:15  -9.8000 -139.0333   \n",
       "5         5          Rikitea      PF  2022-04-03 18:03:15 -23.1203 -134.9692   \n",
       "9         9           Muisne      EC  2022-04-03 18:03:17   0.6000  -80.0333   \n",
       "12       12        Geraldton      AU  2022-04-03 18:03:04 -28.7667  114.6000   \n",
       "17       17  Bambous Virieux      MU  2022-04-03 18:03:19 -20.3428   57.7575   \n",
       "18       18     Kudahuvadhoo      MV  2022-04-03 18:03:20   2.6708   72.8944   \n",
       "20       20             Hilo      US  2022-04-03 18:03:20  19.7297 -155.0900   \n",
       "21       21          Cayenne      GF  2022-04-03 18:00:09   4.9333  -52.3333   \n",
       "28       28   Port Shepstone      ZA  2022-04-03 18:03:23 -30.7414   30.4550   \n",
       "\n",
       "    Max Temp  Humidity  Cloudiness  Wind Speed  \n",
       "3      75.18        86          62        5.01  \n",
       "4      79.54        70          91       21.52  \n",
       "5      76.62        65          52        9.10  \n",
       "9      81.64        76          91       10.00  \n",
       "12     72.01        88          75       17.27  \n",
       "17     78.22        78          56       13.76  \n",
       "18     83.26        62          11        1.77  \n",
       "20     74.25        97          87        1.01  \n",
       "21     84.09         1         100       10.36  \n",
       "28     73.22        86          86        4.63  "
      ]
     },
     "execution_count": 33,
     "metadata": {},
     "output_type": "execute_result"
    }
   ],
   "source": [
    "# Filter the dataset to find the cities that fit the criteria.\n",
    "preferred_cities_df = city_data_df.loc[(city_data_df[\"Max Temp\"] <= max_temp) & \\\n",
    "                                       (city_data_df[\"Max Temp\"] >= min_temp)]\n",
    "preferred_cities_df.head(10)"
   ]
  },
  {
   "cell_type": "code",
   "execution_count": 34,
   "id": "7041cd77",
   "metadata": {},
   "outputs": [
    {
     "data": {
      "text/plain": [
       "City_ID       222\n",
       "City          222\n",
       "Country       222\n",
       "Date          222\n",
       "Lat           222\n",
       "Lng           222\n",
       "Max Temp      222\n",
       "Humidity      222\n",
       "Cloudiness    222\n",
       "Wind Speed    222\n",
       "dtype: int64"
      ]
     },
     "execution_count": 34,
     "metadata": {},
     "output_type": "execute_result"
    }
   ],
   "source": [
    "preferred_cities_df.count()"
   ]
  },
  {
   "cell_type": "code",
   "execution_count": 35,
   "id": "19995b46",
   "metadata": {},
   "outputs": [
    {
     "data": {
      "text/html": [
       "<div>\n",
       "<style scoped>\n",
       "    .dataframe tbody tr th:only-of-type {\n",
       "        vertical-align: middle;\n",
       "    }\n",
       "\n",
       "    .dataframe tbody tr th {\n",
       "        vertical-align: top;\n",
       "    }\n",
       "\n",
       "    .dataframe thead th {\n",
       "        text-align: right;\n",
       "    }\n",
       "</style>\n",
       "<table border=\"1\" class=\"dataframe\">\n",
       "  <thead>\n",
       "    <tr style=\"text-align: right;\">\n",
       "      <th></th>\n",
       "      <th>City</th>\n",
       "      <th>Country</th>\n",
       "      <th>Max Temp</th>\n",
       "      <th>Lat</th>\n",
       "      <th>Lng</th>\n",
       "      <th>Hotel Name</th>\n",
       "    </tr>\n",
       "  </thead>\n",
       "  <tbody>\n",
       "    <tr>\n",
       "      <th>3</th>\n",
       "      <td>Kapaa</td>\n",
       "      <td>US</td>\n",
       "      <td>75.18</td>\n",
       "      <td>22.0752</td>\n",
       "      <td>-159.3190</td>\n",
       "      <td></td>\n",
       "    </tr>\n",
       "    <tr>\n",
       "      <th>4</th>\n",
       "      <td>Atuona</td>\n",
       "      <td>PF</td>\n",
       "      <td>79.54</td>\n",
       "      <td>-9.8000</td>\n",
       "      <td>-139.0333</td>\n",
       "      <td></td>\n",
       "    </tr>\n",
       "    <tr>\n",
       "      <th>5</th>\n",
       "      <td>Rikitea</td>\n",
       "      <td>PF</td>\n",
       "      <td>76.62</td>\n",
       "      <td>-23.1203</td>\n",
       "      <td>-134.9692</td>\n",
       "      <td></td>\n",
       "    </tr>\n",
       "    <tr>\n",
       "      <th>9</th>\n",
       "      <td>Muisne</td>\n",
       "      <td>EC</td>\n",
       "      <td>81.64</td>\n",
       "      <td>0.6000</td>\n",
       "      <td>-80.0333</td>\n",
       "      <td></td>\n",
       "    </tr>\n",
       "    <tr>\n",
       "      <th>12</th>\n",
       "      <td>Geraldton</td>\n",
       "      <td>AU</td>\n",
       "      <td>72.01</td>\n",
       "      <td>-28.7667</td>\n",
       "      <td>114.6000</td>\n",
       "      <td></td>\n",
       "    </tr>\n",
       "    <tr>\n",
       "      <th>17</th>\n",
       "      <td>Bambous Virieux</td>\n",
       "      <td>MU</td>\n",
       "      <td>78.22</td>\n",
       "      <td>-20.3428</td>\n",
       "      <td>57.7575</td>\n",
       "      <td></td>\n",
       "    </tr>\n",
       "    <tr>\n",
       "      <th>18</th>\n",
       "      <td>Kudahuvadhoo</td>\n",
       "      <td>MV</td>\n",
       "      <td>83.26</td>\n",
       "      <td>2.6708</td>\n",
       "      <td>72.8944</td>\n",
       "      <td></td>\n",
       "    </tr>\n",
       "    <tr>\n",
       "      <th>20</th>\n",
       "      <td>Hilo</td>\n",
       "      <td>US</td>\n",
       "      <td>74.25</td>\n",
       "      <td>19.7297</td>\n",
       "      <td>-155.0900</td>\n",
       "      <td></td>\n",
       "    </tr>\n",
       "    <tr>\n",
       "      <th>21</th>\n",
       "      <td>Cayenne</td>\n",
       "      <td>GF</td>\n",
       "      <td>84.09</td>\n",
       "      <td>4.9333</td>\n",
       "      <td>-52.3333</td>\n",
       "      <td></td>\n",
       "    </tr>\n",
       "    <tr>\n",
       "      <th>28</th>\n",
       "      <td>Port Shepstone</td>\n",
       "      <td>ZA</td>\n",
       "      <td>73.22</td>\n",
       "      <td>-30.7414</td>\n",
       "      <td>30.4550</td>\n",
       "      <td></td>\n",
       "    </tr>\n",
       "  </tbody>\n",
       "</table>\n",
       "</div>"
      ],
      "text/plain": [
       "               City Country  Max Temp      Lat       Lng Hotel Name\n",
       "3             Kapaa      US     75.18  22.0752 -159.3190           \n",
       "4            Atuona      PF     79.54  -9.8000 -139.0333           \n",
       "5           Rikitea      PF     76.62 -23.1203 -134.9692           \n",
       "9            Muisne      EC     81.64   0.6000  -80.0333           \n",
       "12        Geraldton      AU     72.01 -28.7667  114.6000           \n",
       "17  Bambous Virieux      MU     78.22 -20.3428   57.7575           \n",
       "18     Kudahuvadhoo      MV     83.26   2.6708   72.8944           \n",
       "20             Hilo      US     74.25  19.7297 -155.0900           \n",
       "21          Cayenne      GF     84.09   4.9333  -52.3333           \n",
       "28   Port Shepstone      ZA     73.22 -30.7414   30.4550           "
      ]
     },
     "execution_count": 35,
     "metadata": {},
     "output_type": "execute_result"
    }
   ],
   "source": [
    "# Create DataFrame called hotel_df to store hotel names along with city, country, max temp, and coordinates.\n",
    "hotel_df = preferred_cities_df[[\"City\", \"Country\", \"Max Temp\", \"Lat\", \"Lng\"]].copy()\n",
    "hotel_df[\"Hotel Name\"] = \"\"\n",
    "hotel_df.head(10)"
   ]
  },
  {
   "cell_type": "code",
   "execution_count": 36,
   "id": "325bbd24",
   "metadata": {},
   "outputs": [],
   "source": [
    "# Set parameters to search for a hotel.\n",
    "params = {\n",
    "    \"radius\": 5000,\n",
    "    \"type\": \"lodging\",\n",
    "    \"key\": g_key\n",
    "}"
   ]
  },
  {
   "cell_type": "code",
   "execution_count": 37,
   "id": "04565708",
   "metadata": {},
   "outputs": [],
   "source": [
    "# Iterate through the DataFrame.\n",
    "for index, row in hotel_df[:5].iterrows():\n",
    "    # Get the latitude and longitude.\n",
    "    lat = row[\"Lat\"]\n",
    "    lng = row[\"Lng\"]\n",
    "\n",
    "    # Add the latitude and longitude to location key for the params dictionary.\n",
    "    params[\"location\"] = f\"{lat},{lng}\"\n",
    "\n",
    "    # Use the search term: \"lodging\" and our latitude and longitude.\n",
    "    base_url = \"https://maps.googleapis.com/maps/api/place/nearbysearch/json\"\n",
    "    # Make request and get the JSON data from the search.\n",
    "    hotels = requests.get(base_url, params=params).json()\n",
    "    # Grab the first hotel from the results and store the name.\n",
    "    try: hotel_df.loc[index, \"Hotel Name\"] = hotels[\"results\"][0][\"name\"]\n",
    "    except (IndexError): print(\"Hotel not found... skipping.\")\n",
    "    "
   ]
  },
  {
   "cell_type": "code",
   "execution_count": 38,
   "id": "a4e80eee",
   "metadata": {},
   "outputs": [
    {
     "data": {
      "application/vnd.jupyter.widget-view+json": {
       "model_id": "e7bf1eae4f524c719a3650bbbe790069",
       "version_major": 2,
       "version_minor": 0
      },
      "text/plain": [
       "Figure(layout=FigureLayout(height='420px'))"
      ]
     },
     "metadata": {},
     "output_type": "display_data"
    }
   ],
   "source": [
    "# Add a heatmap of temperature for the vacation spots.\n",
    "locations = hotel_df[[\"Lat\", \"Lng\"]]\n",
    "max_temp = hotel_df[\"Max Temp\"]\n",
    "fig = gmaps.figure(center=(30.0, 31.0), zoom_level=1.5)\n",
    "heat_layer = gmaps.heatmap_layer(locations, weights=max_temp, dissipating=False,\n",
    "             max_intensity=300, point_radius=4)\n",
    "\n",
    "fig.add_layer(heat_layer)\n",
    "# Call the figure to plot the data.\n",
    "fig"
   ]
  },
  {
   "cell_type": "code",
   "execution_count": 39,
   "id": "e0adf759",
   "metadata": {},
   "outputs": [
    {
     "name": "stdout",
     "output_type": "stream",
     "text": [
      "{'html_attributions': [], 'next_page_token': 'Aap_uEBMw5-OZYxQsfl-fpzR3DG_Bv7b8yAmtXALwuy23hexhgr374xVQVDAQWmhhVzZkTqxoJZoYmoW3ypkpDASarjVjc_ACq-MxjElc6ZVaH9I5mDKXAw6k0dob0ETeIqai50b7AUSfof96qlnCmSAjcL8f_CS-vpgNfU5P7ynpVBNhyVPtt4e0ov61mzF_0iwSqEXjmifm1YThTCP_bwn0rT9zfu_UBg2jlw6DRojRlkuFyxRDK27neeipxIV0wOA6gw0rAasTvyRa4FReEuxA2mMlWVHY5yK7qU69IG6nTEhk_2pBc3Psdgt2XGGZqo4IF6RexCpDBNgvqcFe5p5jB-vuaf4nhiC4RYcQXwtSunjAZdO9h_2slwkLtcHyTU3JcCcilkSZ2FhYJ6gHYzBSEMEKl8PjC9g_ev5y2cJ49c3Jqx6RbnMmYAY', 'results': [{'business_status': 'OPERATIONAL', 'geometry': {'location': {'lat': -28.749328, 'lng': 114.6193641}, 'viewport': {'northeast': {'lat': -28.7479233197085, 'lng': 114.6205735302915}, 'southwest': {'lat': -28.7506212802915, 'lng': 114.6178755697085}}}, 'icon': 'https://maps.gstatic.com/mapfiles/place_api/icons/v1/png_71/lodging-71.png', 'icon_background_color': '#909CE1', 'icon_mask_base_uri': 'https://maps.gstatic.com/mapfiles/place_api/icons/v2/hotel_pinlet', 'name': 'Broadwater Mariner Resort', 'photos': [{'height': 3504, 'html_attributions': ['<a href=\"https://maps.google.com/maps/contrib/102606854275963150359\">Rick Tylka</a>'], 'photo_reference': 'Aap_uEDQN1RbulfIOA3g59voi3X-6Fi-t9OF84pKxSHeWgwChp1lewhQGIq0LNIkbg44_MeyHAAj0ggsGE6hiBGRCDtNErh7SY0b7NZuY7KklpYnU7r4XPPIgngyoGSwrVToqIs1lpVl5NIx4DBKbbzRW0XWuWutj_OOWDFFv06QOnWDtnM9', 'width': 4672}], 'place_id': 'ChIJz0BpoNhF2isR1KkpA2f27XY', 'plus_code': {'compound_code': '7J29+7P Geraldton WA, Australia', 'global_code': '5P3P7J29+7P'}, 'rating': 4.1, 'reference': 'ChIJz0BpoNhF2isR1KkpA2f27XY', 'scope': 'GOOGLE', 'types': ['lodging', 'point_of_interest', 'establishment'], 'user_ratings_total': 92, 'vicinity': '298 Chapman Road, Geraldton'}, {'business_status': 'OPERATIONAL', 'geometry': {'location': {'lat': -28.78542929999999, 'lng': 114.6159339}, 'viewport': {'northeast': {'lat': -28.7839959697085, 'lng': 114.6171380302915}, 'southwest': {'lat': -28.7866939302915, 'lng': 114.6144400697085}}}, 'icon': 'https://maps.gstatic.com/mapfiles/place_api/icons/v1/png_71/lodging-71.png', 'icon_background_color': '#909CE1', 'icon_mask_base_uri': 'https://maps.gstatic.com/mapfiles/place_api/icons/v2/hotel_pinlet', 'name': 'Hospitality Geraldton', 'opening_hours': {'open_now': True}, 'photos': [{'height': 450, 'html_attributions': ['<a href=\"https://maps.google.com/maps/contrib/109966197655171200404\">Hospitality Geraldton</a>'], 'photo_reference': 'Aap_uEBI_PztPeQQfcSpjmVSn0ppy5VS114m2YUpgM14aJeeQ7GtzaSP9_jruQ4syrbeq4tucK2ZSWzRh7VW8vsKFPyJnykwHzONjY3dqLsgrid2yd9_7xIL6zcEJNPFFyJC8FJdpxBtb80ZRuozUdZChGdZziYZT4515dvZztKzm_aTQh_9', 'width': 800}], 'place_id': 'ChIJiyvOFZxG2isReoknqKXWBdo', 'plus_code': {'compound_code': '6J78+R9 Geraldton WA, Australia', 'global_code': '5P3P6J78+R9'}, 'rating': 4.1, 'reference': 'ChIJiyvOFZxG2isReoknqKXWBdo', 'scope': 'GOOGLE', 'types': ['lodging', 'restaurant', 'food', 'point_of_interest', 'establishment'], 'user_ratings_total': 309, 'vicinity': '169 Cathedral Avenue, Geraldton'}, {'business_status': 'OPERATIONAL', 'geometry': {'location': {'lat': -28.7822976, 'lng': 114.6153123}, 'viewport': {'northeast': {'lat': -28.7810213197085, 'lng': 114.6167475802915}, 'southwest': {'lat': -28.7837192802915, 'lng': 114.6140496197085}}}, 'icon': 'https://maps.gstatic.com/mapfiles/place_api/icons/v1/png_71/lodging-71.png', 'icon_background_color': '#909CE1', 'icon_mask_base_uri': 'https://maps.gstatic.com/mapfiles/place_api/icons/v2/hotel_pinlet', 'name': 'Sails Geraldton Accommodation', 'opening_hours': {'open_now': True}, 'photos': [{'height': 1080, 'html_attributions': ['<a href=\"https://maps.google.com/maps/contrib/111337271162309651515\">Sails Geraldton Accommodation</a>'], 'photo_reference': 'Aap_uECqfyVc5zRQz2laxes2Ixx56--TOQgcm63-tQ5MZ6E5bbeb3QukKwh0yKXRuV18sCKauyTEqIHGhTbTYQbz7wUqmlkudks_xecZTefbXNKCqsLO9mqIZpW-MonMVfAVxR_96Ly77GkzdQrEJbb3sZC89xmzBwGO4GYO-35KH6FID1pF', 'width': 1620}], 'place_id': 'ChIJrQZbB4VG2isRzIvrwJuytik', 'plus_code': {'compound_code': '6J98+34 Geraldton WA, Australia', 'global_code': '5P3P6J98+34'}, 'rating': 3.7, 'reference': 'ChIJrQZbB4VG2isRzIvrwJuytik', 'scope': 'GOOGLE', 'types': ['lodging', 'point_of_interest', 'establishment'], 'user_ratings_total': 69, 'vicinity': '137 Cathedral Avenue, Geraldton'}, {'business_status': 'OPERATIONAL', 'geometry': {'location': {'lat': -28.8011807, 'lng': 114.6199747}, 'viewport': {'northeast': {'lat': -28.79989446970851, 'lng': 114.6216415302915}, 'southwest': {'lat': -28.8025924302915, 'lng': 114.6189435697085}}}, 'icon': 'https://maps.gstatic.com/mapfiles/place_api/icons/v1/png_71/lodging-71.png', 'icon_background_color': '#909CE1', 'icon_mask_base_uri': 'https://maps.gstatic.com/mapfiles/place_api/icons/v2/hotel_pinlet', 'name': 'ibis Styles Geraldton', 'photos': [{'height': 768, 'html_attributions': ['<a href=\"https://maps.google.com/maps/contrib/118158059585571126462\">ibis Styles Geraldton</a>'], 'photo_reference': 'Aap_uEBscc27AeWwBMt0-BuPBugeF4OqqE8tRpQYO4lK6AXQg717hxF_lZaLLCAFqf50kcn4Knao_tJewHi00of393Tl70j3iCrGO1BK9NPlTXQKCqATUoST8YW6byfSFgD-A3oqYn4j3k30AJuma8GdybKYUtLH4Bpo24iNvdmeGVVY0LhM', 'width': 1024}], 'place_id': 'ChIJvS2U8QBE2isRTPv5FerDpOo', 'plus_code': {'compound_code': '5JX9+GX Geraldton WA, Australia', 'global_code': '5P3P5JX9+GX'}, 'rating': 3.7, 'reference': 'ChIJvS2U8QBE2isRTPv5FerDpOo', 'scope': 'GOOGLE', 'types': ['lodging', 'point_of_interest', 'establishment'], 'user_ratings_total': 234, 'vicinity': '140 Brand Highway, Geraldton'}, {'business_status': 'OPERATIONAL', 'geometry': {'location': {'lat': -28.8025245, 'lng': 114.6185507}, 'viewport': {'northeast': {'lat': -28.8010333697085, 'lng': 114.6199072302915}, 'southwest': {'lat': -28.8037313302915, 'lng': 114.6172092697085}}}, 'icon': 'https://maps.gstatic.com/mapfiles/place_api/icons/v1/png_71/camping-71.png', 'icon_background_color': '#4DB546', 'icon_mask_base_uri': 'https://maps.gstatic.com/mapfiles/place_api/icons/v2/camping_pinlet', 'name': 'The African Reef', 'opening_hours': {'open_now': True}, 'photos': [{'height': 2184, 'html_attributions': ['<a href=\"https://maps.google.com/maps/contrib/117392793522537536063\">Yuggie Liang</a>'], 'photo_reference': 'Aap_uEDe9f5QO6VmR0ZDiQQqjg8r4qbOHpL4bp1u2_-ecC4prw62JUlWoq7ZtyH1Igqrmuyetkcz_LZiRyd9MLboDYU67au1Hw5zJL2jeycHO98CI3p2QHKjTpqd1XApxeM549v2oAHNbPx1QPhAjpRBgHXu-24aUBWKS5BdXlnLnQw8rb6Z', 'width': 4608}], 'place_id': 'ChIJeXrb-KlG2isRQ0IuMw-XxfM', 'plus_code': {'compound_code': '5JW9+XC Tarcoola Beach WA, Australia', 'global_code': '5P3P5JW9+XC'}, 'rating': 3.4, 'reference': 'ChIJeXrb-KlG2isRQ0IuMw-XxfM', 'scope': 'GOOGLE', 'types': ['campground', 'lodging', 'park', 'point_of_interest', 'establishment'], 'user_ratings_total': 137, 'vicinity': '5 Broadhead Avenue, Tarcoola Beach'}, {'business_status': 'OPERATIONAL', 'geometry': {'location': {'lat': -28.7692851, 'lng': 114.6117458}, 'viewport': {'northeast': {'lat': -28.7679828697085, 'lng': 114.6131660302915}, 'southwest': {'lat': -28.7706808302915, 'lng': 114.6104680697085}}}, 'icon': 'https://maps.gstatic.com/mapfiles/place_api/icons/v1/png_71/lodging-71.png', 'icon_background_color': '#909CE1', 'icon_mask_base_uri': 'https://maps.gstatic.com/mapfiles/place_api/icons/v2/hotel_pinlet', 'name': 'Mantra Geraldton', 'photos': [{'height': 2000, 'html_attributions': ['<a href=\"https://maps.google.com/maps/contrib/116938559615842212989\">Mantra Geraldton</a>'], 'photo_reference': 'Aap_uEAtPeeHpo-Ag_0XgNu9Ztjvaxv6RGwRaYTsJHUeIfsl-YvCcbrx_i69gV9EVSOZ7bXnt9JSxfevfrW9jirkDkD4a3huV90SFd6LIi5CobmE63uquHA7no1WMfa-V7VAlakHoDYX-PR0Jtr14cvkn-eLqqaGLC_GOdxlMSB-tnupFgfh', 'width': 3000}], 'place_id': 'ChIJN_wL_oZG2isRCqS7SMNK838', 'plus_code': {'compound_code': '6JJ6+7M Geraldton WA, Australia', 'global_code': '5P3P6JJ6+7M'}, 'rating': 4.1, 'reference': 'ChIJN_wL_oZG2isRCqS7SMNK838', 'scope': 'GOOGLE', 'types': ['lodging', 'point_of_interest', 'establishment'], 'user_ratings_total': 220, 'vicinity': '221 Foreshore Drive, Geraldton'}, {'business_status': 'OPERATIONAL', 'geometry': {'location': {'lat': -28.7738192, 'lng': 114.6082717}, 'viewport': {'northeast': {'lat': -28.7725023697085, 'lng': 114.6093839302915}, 'southwest': {'lat': -28.7752003302915, 'lng': 114.6066859697085}}}, 'icon': 'https://maps.gstatic.com/mapfiles/place_api/icons/v1/png_71/lodging-71.png', 'icon_background_color': '#909CE1', 'icon_mask_base_uri': 'https://maps.gstatic.com/mapfiles/place_api/icons/v2/hotel_pinlet', 'name': 'Ocean Centre Hotel - Stay Beachside in Geraldton!', 'opening_hours': {'open_now': True}, 'photos': [{'height': 1445, 'html_attributions': ['<a href=\"https://maps.google.com/maps/contrib/116906928031279091961\">Ocean Centre Hotel</a>'], 'photo_reference': 'Aap_uEBT_NzlVsKwo2zt5X00Sk7RMkdtW_gbxJRfS2lOvl1TwKh4kUS2P8-Apzu874MFR60XILKxGmKG81dPdD7Zxvm3SAwWOsaJLiB7JK9oHObMQy8hFpXtf7x0Va3PqAAe7pccezlW5sBdU15Eujm_h1ZiFP7z9z8Ux0QmAaZrIUUWAiCW', 'width': 2048}], 'place_id': 'ChIJ3dPujYVG2isR9gzBd8heuTA', 'plus_code': {'compound_code': '6JG5+F8 Geraldton WA, Australia', 'global_code': '5P3P6JG5+F8'}, 'rating': 4, 'reference': 'ChIJ3dPujYVG2isR9gzBd8heuTA', 'scope': 'GOOGLE', 'types': ['lodging', 'point_of_interest', 'establishment'], 'user_ratings_total': 400, 'vicinity': 'Cathedral Ave &, Foreshore Drive, Geraldton'}, {'business_status': 'OPERATIONAL', 'geometry': {'location': {'lat': -28.7362566, 'lng': 114.6244151}, 'viewport': {'northeast': {'lat': -28.7351512197085, 'lng': 114.6258589802915}, 'southwest': {'lat': -28.7378491802915, 'lng': 114.6231610197085}}}, 'icon': 'https://maps.gstatic.com/mapfiles/place_api/icons/v1/png_71/lodging-71.png', 'icon_background_color': '#909CE1', 'icon_mask_base_uri': 'https://maps.gstatic.com/mapfiles/place_api/icons/v2/hotel_pinlet', 'name': 'Nightcap at Wintersun Hotel', 'photos': [{'height': 2592, 'html_attributions': ['<a href=\"https://maps.google.com/maps/contrib/102094096281022873964\">Nightcap at Wintersun Hotel</a>'], 'photo_reference': 'Aap_uEDzvOxxdi1xdUzJ8YTo6tEESv6sSaqElLeJn0HcWdEqN06BToOR3AUh_dtSdxTCAbyGaWHTjbt_YZv3ZVIkMwTIE2Y9oiS5yX1FNwNUvZeMstngr7CI1OenOk4y-CYsjg9jdG5nbUgmuqx3I5aOukUsGdimwTZuYOr_lEIb1z5GGNsx', 'width': 5760}], 'place_id': 'ChIJ0-FI4-NF2isR2ysUvGOQ0WQ', 'plus_code': {'compound_code': '7J7F+FQ Bluff Point WA, Australia', 'global_code': '5P3P7J7F+FQ'}, 'price_level': 1, 'rating': 4.1, 'reference': 'ChIJ0-FI4-NF2isR2ysUvGOQ0WQ', 'scope': 'GOOGLE', 'types': ['lodging', 'point_of_interest', 'establishment'], 'user_ratings_total': 595, 'vicinity': '441 Chapman Road, Bluff Point'}, {'business_status': 'OPERATIONAL', 'geometry': {'location': {'lat': -28.7992359, 'lng': 114.6196742}, 'viewport': {'northeast': {'lat': -28.79786021970849, 'lng': 114.6210663802915}, 'southwest': {'lat': -28.80055818029149, 'lng': 114.6183684197085}}}, 'icon': 'https://maps.gstatic.com/mapfiles/place_api/icons/v1/png_71/lodging-71.png', 'icon_background_color': '#909CE1', 'icon_mask_base_uri': 'https://maps.gstatic.com/mapfiles/place_api/icons/v2/hotel_pinlet', 'name': 'Abrolhos Reef Lodge', 'opening_hours': {'open_now': False}, 'photos': [{'height': 2129, 'html_attributions': ['<a href=\"https://maps.google.com/maps/contrib/105304269526992019845\">Abrolhos Reef Lodge</a>'], 'photo_reference': 'Aap_uEBxPF7ptPQzGwjAzm1P3dgIu1vdzYyx_AcMQUnNpMATwR7Aw3pb6dnUglcsxcinMYu9Y4ROvXheyQ_WkXoaw_fkJ-vTdO1eg1nE9NdoMW_5xN8fB1gQoH1mhwP7BmQMjnaqlCyZR6lDZsGYXT2DLxdZZEZJs_p4pbFhe_YoAGa_WYU', 'width': 3200}], 'place_id': 'ChIJ82oHJqhG2isRRcP3-BerPOk', 'plus_code': {'compound_code': '6J29+8V Tarcoola Beach WA, Australia', 'global_code': '5P3P6J29+8V'}, 'rating': 3.4, 'reference': 'ChIJ82oHJqhG2isRRcP3-BerPOk', 'scope': 'GOOGLE', 'types': ['lodging', 'point_of_interest', 'establishment'], 'user_ratings_total': 175, 'vicinity': '126 Brand Highway, Tarcoola Beach'}, {'business_status': 'OPERATIONAL', 'geometry': {'location': {'lat': -28.7766262, 'lng': 114.6186632}, 'viewport': {'northeast': {'lat': -28.7753782697085, 'lng': 114.6201005802915}, 'southwest': {'lat': -28.7780762302915, 'lng': 114.6174026197085}}}, 'icon': 'https://maps.gstatic.com/mapfiles/place_api/icons/v1/png_71/lodging-71.png', 'icon_background_color': '#909CE1', 'icon_mask_base_uri': 'https://maps.gstatic.com/mapfiles/place_api/icons/v2/hotel_pinlet', 'name': 'Waldeck Heights', 'photos': [{'height': 515, 'html_attributions': ['<a href=\"https://maps.google.com/maps/contrib/114514268583005274553\">Matthew Poole</a>'], 'photo_reference': 'Aap_uEAhciHRnklO5bRalRh2uN6LF2-nGJGn0ONFHLcHdzI-M5trlufmzr-5IFZzVCCW9HLf1x0_01ICt6J55XxdcjmSObrx9ddXGjBUeBrLjdRi_crxlcJCaeEenuXe678kPDuYl2mIv7lsHPPrmyvjLWA7QgjU0CBKyX1v6qCjMzyNRX7X', 'width': 720}], 'place_id': 'ChIJ__-jXJ1G2isRwFs6vf8VRvM', 'plus_code': {'compound_code': '6JF9+8F Geraldton WA, Australia', 'global_code': '5P3P6JF9+8F'}, 'rating': 3.6, 'reference': 'ChIJ__-jXJ1G2isRwFs6vf8VRvM', 'scope': 'GOOGLE', 'types': ['lodging', 'point_of_interest', 'establishment'], 'user_ratings_total': 12, 'vicinity': '27 Waldeck Street, Geraldton'}, {'business_status': 'OPERATIONAL', 'geometry': {'location': {'lat': -28.7499374, 'lng': 114.6208526}, 'viewport': {'northeast': {'lat': -28.7486787697085, 'lng': 114.6221580302915}, 'southwest': {'lat': -28.7513767302915, 'lng': 114.6194600697085}}}, 'icon': 'https://maps.gstatic.com/mapfiles/place_api/icons/v1/png_71/lodging-71.png', 'icon_background_color': '#909CE1', 'icon_mask_base_uri': 'https://maps.gstatic.com/mapfiles/place_api/icons/v2/hotel_pinlet', 'name': 'Mariner Waters', 'photos': [{'height': 3264, 'html_attributions': ['<a href=\"https://maps.google.com/maps/contrib/101371093305891064291\">Tamarra Joseph</a>'], 'photo_reference': 'Aap_uEBjQAprC3GxRO-S61UsoOt8tznfY5vHYADWpR3bSTLF_N_oOQwPLemrlZwPmdoJuvDanca38oA8x-IcZi2_-928j4cIf1ip4FDwGid9eIqccY1vSoWdR_83fM5Styf_RR0RS7C8DzANOUrP2PIakfjYK3jo1EPYqqPmFiCTEx2HW9OV', 'width': 1836}], 'place_id': 'ChIJG3oW9NhF2isRefmMSErzGfM', 'plus_code': {'compound_code': '7J2C+28 Beresford WA, Australia', 'global_code': '5P3P7J2C+28'}, 'rating': 3.3, 'reference': 'ChIJG3oW9NhF2isRefmMSErzGfM', 'scope': 'GOOGLE', 'types': ['lodging', 'point_of_interest', 'establishment'], 'user_ratings_total': 3, 'vicinity': '26 Mabel Street, Beresford'}, {'business_status': 'OPERATIONAL', 'geometry': {'location': {'lat': -28.7797046, 'lng': 114.5831699}, 'viewport': {'northeast': {'lat': -28.7783510197085, 'lng': 114.5844546802915}, 'southwest': {'lat': -28.78104898029149, 'lng': 114.5817567197085}}}, 'icon': 'https://maps.gstatic.com/mapfiles/place_api/icons/v1/png_71/lodging-71.png', 'icon_background_color': '#909CE1', 'icon_mask_base_uri': 'https://maps.gstatic.com/mapfiles/place_api/icons/v2/hotel_pinlet', 'name': 'Geraldton Belair Gardens Caravan Park', 'opening_hours': {'open_now': False}, 'photos': [{'height': 4480, 'html_attributions': ['<a href=\"https://maps.google.com/maps/contrib/109719674392392937376\">Geraldton Belair Gardens Caravan Park</a>'], 'photo_reference': 'Aap_uECEi__AN1NIouHJTRGgKfDW8M_ue8EW_UBT9tzXPRv---t4JGKRB7hkoelM6HJ50JEOZ25qtzms9vxhK4qu3Nm_lA8wgefjPWliTkvAnuLeXqrxaFnNDcxGcZWNYFccPP4PS7H_9qsY8Hzibz1s8IR6uY_Fu8iFQsfR6X6f_2ZhDcre', 'width': 6720}], 'place_id': 'ChIJwR8GnvBG2isR95mISsDqePA', 'plus_code': {'compound_code': '6HCM+47 Geraldton WA, Australia', 'global_code': '5P3P6HCM+47'}, 'rating': 4.1, 'reference': 'ChIJwR8GnvBG2isR95mISsDqePA', 'scope': 'GOOGLE', 'types': ['rv_park', 'campground', 'lodging', 'park', 'point_of_interest', 'establishment'], 'user_ratings_total': 686, 'vicinity': '463 Marine Terrace, Geraldton'}, {'business_status': 'OPERATIONAL', 'geometry': {'location': {'lat': -28.78152000000001, 'lng': 114.6048}, 'viewport': {'northeast': {'lat': -28.7801903197085, 'lng': 114.6059090302915}, 'southwest': {'lat': -28.7828882802915, 'lng': 114.6032110697085}}}, 'icon': 'https://maps.gstatic.com/mapfiles/place_api/icons/v1/png_71/lodging-71.png', 'icon_background_color': '#909CE1', 'icon_mask_base_uri': 'https://maps.gstatic.com/mapfiles/place_api/icons/v2/hotel_pinlet', 'name': \"1850's Stone Cottage\", 'photos': [{'height': 2048, 'html_attributions': ['<a href=\"https://maps.google.com/maps/contrib/106332257314806371010\">1850&#39;s Stone Cottage</a>'], 'photo_reference': 'Aap_uEASZG72y-paxlmaziLGwJM-AptvETjaTNuToJw_SBRvp-kTX2uzbClCg9KXVZbAkJC_FjoS1zHBm6kVEq_7aciCPvECAhU0Q_8q_-8bYvI51jKN_2O8DiVcmNaIXh99uuHvbR1p1c2lF8R2s7cXuk1r-1VIbwXPZNlDMXtcfduJKu8V', 'width': 1829}], 'place_id': 'ChIJaxKf_JBG2isRzvcH4nnSp1k', 'plus_code': {'compound_code': '6J93+9W Geraldton WA, Australia', 'global_code': '5P3P6J93+9W'}, 'rating': 4.5, 'reference': 'ChIJaxKf_JBG2isRzvcH4nnSp1k', 'scope': 'GOOGLE', 'types': ['lodging', 'point_of_interest', 'establishment'], 'user_ratings_total': 2, 'vicinity': '67 Francis Street Beachlands, Geraldton'}, {'business_status': 'OPERATIONAL', 'geometry': {'location': {'lat': -28.7743511, 'lng': 114.6078262}, 'viewport': {'northeast': {'lat': -28.7731381197085, 'lng': 114.6092471302915}, 'southwest': {'lat': -28.7758360802915, 'lng': 114.6065491697085}}}, 'icon': 'https://maps.gstatic.com/mapfiles/place_api/icons/v1/png_71/lodging-71.png', 'icon_background_color': '#909CE1', 'icon_mask_base_uri': 'https://maps.gstatic.com/mapfiles/place_api/icons/v2/hotel_pinlet', 'name': 'Geraldton Backpackers on the Foreshore', 'opening_hours': {'open_now': True}, 'photos': [{'height': 728, 'html_attributions': ['<a href=\"https://maps.google.com/maps/contrib/104377691452273828826\">Geraldton Backpackers on the Foreshore</a>'], 'photo_reference': 'Aap_uEB7PE20_Tx39kbaM36y2oNcjEyNvWmByigBMqNSdqRdgiwAd-F6TJowg8XcLCVGboAzXNp5EAzQ_2N2ZyRoCSt1iBWtpmM7XLurrfacur6LOe72RH7tJYSxUOqy4HZsJDEqeXTSdMr9lu6U8LbMh3cy7TxV-ZOrGMhmxO8N1XkBhkS0', 'width': 1238}], 'place_id': 'ChIJJXWgg4VG2isRlC57QcIDgOk', 'plus_code': {'compound_code': '6JG5+74 Geraldton WA, Australia', 'global_code': '5P3P6JG5+74'}, 'rating': 4.7, 'reference': 'ChIJJXWgg4VG2isRlC57QcIDgOk', 'scope': 'GOOGLE', 'types': ['lodging', 'point_of_interest', 'establishment'], 'user_ratings_total': 209, 'vicinity': '172 Marine Terrace, Geraldton'}, {'business_status': 'OPERATIONAL', 'geometry': {'location': {'lat': -28.7718477, 'lng': 114.618944}, 'viewport': {'northeast': {'lat': -28.77045446970849, 'lng': 114.6204603302915}, 'southwest': {'lat': -28.77315243029149, 'lng': 114.6177623697085}}}, 'icon': 'https://maps.gstatic.com/mapfiles/place_api/icons/v1/png_71/lodging-71.png', 'icon_background_color': '#909CE1', 'icon_mask_base_uri': 'https://maps.gstatic.com/mapfiles/place_api/icons/v2/hotel_pinlet', 'name': 'STAY', 'place_id': 'ChIJNSq-doJG2isRMxiOFggVn2c', 'plus_code': {'compound_code': '6JH9+7H Geraldton WA, Australia', 'global_code': '5P3P6JH9+7H'}, 'rating': 3.8, 'reference': 'ChIJNSq-doJG2isRMxiOFggVn2c', 'scope': 'GOOGLE', 'types': ['lodging', 'point_of_interest', 'establishment'], 'user_ratings_total': 4, 'vicinity': '24 Quarry Street, Geraldton'}, {'business_status': 'OPERATIONAL', 'geometry': {'location': {'lat': -28.759817, 'lng': 114.619108}, 'viewport': {'northeast': {'lat': -28.7584828197085, 'lng': 114.6206178802915}, 'southwest': {'lat': -28.7611807802915, 'lng': 114.6179199197085}}}, 'icon': 'https://maps.gstatic.com/mapfiles/place_api/icons/v1/png_71/lodging-71.png', 'icon_background_color': '#909CE1', 'icon_mask_base_uri': 'https://maps.gstatic.com/mapfiles/place_api/icons/v2/hotel_pinlet', 'name': 'Geraldton Bed and Breakfast', 'place_id': 'ChIJJ5QcUH9G2isRE9F5pv58vdI', 'plus_code': {'compound_code': '6JR9+3J Beresford WA, Australia', 'global_code': '5P3P6JR9+3J'}, 'rating': 4.5, 'reference': 'ChIJJ5QcUH9G2isRE9F5pv58vdI', 'scope': 'GOOGLE', 'types': ['lodging', 'point_of_interest', 'establishment'], 'user_ratings_total': 11, 'vicinity': '183 George Road, Beresford'}, {'business_status': 'OPERATIONAL', 'geometry': {'location': {'lat': -28.7496742, 'lng': 114.619925}, 'viewport': {'northeast': {'lat': -28.7484038197085, 'lng': 114.6213241802915}, 'southwest': {'lat': -28.75110178029149, 'lng': 114.6186262197085}}}, 'icon': 'https://maps.gstatic.com/mapfiles/place_api/icons/v1/png_71/lodging-71.png', 'icon_background_color': '#909CE1', 'icon_mask_base_uri': 'https://maps.gstatic.com/mapfiles/place_api/icons/v2/hotel_pinlet', 'name': 'Nesuto Geraldton Apartment Hotel', 'opening_hours': {'open_now': True}, 'photos': [{'height': 2854, 'html_attributions': ['<a href=\"https://maps.google.com/maps/contrib/116133250858346271567\">Alan L</a>'], 'photo_reference': 'Aap_uED0VqjkmNjUBVARDyK2MfsdzGHRZ9hiUm0DKRABqU4T-azwFI5Irnq3-QRWS6u2lovNYcldo0IbQs1kboXCc9lwU4pmrSMrrUEKY3TNqCmrFfIowwo-_5sSAUGqLcJHTDRIEPdoTZS1auS6gaKZZ_6tm3oHfMnf_V9KdIiJlk3XH_Pv', 'width': 3804}], 'place_id': 'ChIJz0BpoNhF2isRTb_vsu7Jq-s', 'plus_code': {'compound_code': '7J29+4X Geraldton WA, Australia', 'global_code': '5P3P7J29+4X'}, 'rating': 4.3, 'reference': 'ChIJz0BpoNhF2isRTb_vsu7Jq-s', 'scope': 'GOOGLE', 'types': ['lodging', 'point_of_interest', 'establishment'], 'user_ratings_total': 248, 'vicinity': '298 Chapman Road, Geraldton'}, {'business_status': 'OPERATIONAL', 'geometry': {'location': {'lat': -28.7929562, 'lng': 114.6182326}, 'viewport': {'northeast': {'lat': -28.79157031970851, 'lng': 114.6196826802915}, 'southwest': {'lat': -28.7942682802915, 'lng': 114.6169847197085}}}, 'icon': 'https://maps.gstatic.com/mapfiles/place_api/icons/v1/png_71/lodging-71.png', 'icon_background_color': '#909CE1', 'icon_mask_base_uri': 'https://maps.gstatic.com/mapfiles/place_api/icons/v2/hotel_pinlet', 'name': 'Ocean View Villas', 'opening_hours': {'open_now': False}, 'photos': [{'height': 3024, 'html_attributions': ['<a href=\"https://maps.google.com/maps/contrib/115621987208140803120\">Allen</a>'], 'photo_reference': 'Aap_uEBczIX_tQq8uN1n1XBlsyx6kzR5wtAJEcgLkdGK58qKseXotDTnq5FHFutkdWCFsO0h98_5wi_eCOeJtNm6GzEOVveGdIkn6jojLaJ53H7MWegEXNWJiv7xNePnIStnx-eoRg1Xzj-JC1-AO8V-Ulvc-mnlpbOeWLO95nnnVngne8Y', 'width': 4032}], 'place_id': 'ChIJL4qUSKdG2isRiAcTTkNY6n8', 'plus_code': {'compound_code': '6J49+R7 Mahomets Flats WA, Australia', 'global_code': '5P3P6J49+R7'}, 'rating': 3.7, 'reference': 'ChIJL4qUSKdG2isRiAcTTkNY6n8', 'scope': 'GOOGLE', 'types': ['lodging', 'point_of_interest', 'establishment'], 'user_ratings_total': 91, 'vicinity': '91 Brand Highway, Mahomets Flats'}, {'business_status': 'OPERATIONAL', 'geometry': {'location': {'lat': -28.7362605, 'lng': 114.6222759}, 'viewport': {'northeast': {'lat': -28.7349112197085, 'lng': 114.6237368302915}, 'southwest': {'lat': -28.7376091802915, 'lng': 114.6210388697085}}}, 'icon': 'https://maps.gstatic.com/mapfiles/place_api/icons/v1/png_71/lodging-71.png', 'icon_background_color': '#909CE1', 'icon_mask_base_uri': 'https://maps.gstatic.com/mapfiles/place_api/icons/v2/hotel_pinlet', 'name': 'Catherine House Accommodation', 'opening_hours': {'open_now': True}, 'photos': [{'height': 768, 'html_attributions': ['<a href=\"https://maps.google.com/maps/contrib/108819881298331848567\">Catherine House Accommodation</a>'], 'photo_reference': 'Aap_uEB7if32UsqH6sIGszPCjYHQUlZ3-z0KIiSWxZaTZz7_9bELRhkVASCoShpsd7fhxbDkFq1WBqq9EG3dQIQ7rleV_kArWZgCFyUpRCoKmdSgfJbiJuVVSp6sIMNTKPcaODmbt66QI4IFZcgqCyqvPb0bGFQsibK4lNUhbg5w6Ph8WrU6', 'width': 1024}], 'place_id': 'ChIJB7-r1ONF2isRj5BEHmYpXJE', 'plus_code': {'compound_code': '7J7C+FW Bluff Point WA, Australia', 'global_code': '5P3P7J7C+FW'}, 'rating': 4, 'reference': 'ChIJB7-r1ONF2isRj5BEHmYpXJE', 'scope': 'GOOGLE', 'types': ['lodging', 'point_of_interest', 'establishment'], 'user_ratings_total': 1, 'vicinity': '4 Catherine Street, Bluff Point'}, {'business_status': 'OPERATIONAL', 'geometry': {'location': {'lat': -28.7814337, 'lng': 114.605923}, 'viewport': {'northeast': {'lat': -28.7800783697085, 'lng': 114.6073546302915}, 'southwest': {'lat': -28.78277633029149, 'lng': 114.6046566697085}}}, 'icon': 'https://maps.gstatic.com/mapfiles/place_api/icons/v1/png_71/generic_business-71.png', 'icon_background_color': '#7B9EB0', 'icon_mask_base_uri': 'https://maps.gstatic.com/mapfiles/place_api/icons/v2/generic_pinlet', 'name': 'Weelaway House', 'opening_hours': {'open_now': True}, 'photos': [{'height': 720, 'html_attributions': ['<a href=\"https://maps.google.com/maps/contrib/112544280957692881149\">Weelaway House</a>'], 'photo_reference': 'Aap_uEB_HCjWcEU5TzDJ50uk0kSHk2atjEG5sNUSEomvzOBcuxUxPpH1eZaWCjAe2vqzHQa6EnyhlsWhGaYfdx_0XhddJUqBkjlWB7DFPBr4unxO1gyO49xAE6yeBUzIW5NmWrWW12rAD6TzrGB6zm3H8p4YhV6dM_hcOe26p9IG1LvtykvN', 'width': 960}], 'place_id': 'ChIJ8b-W8ZBG2isRAyXD-A0BHW4', 'plus_code': {'compound_code': '6J94+C9 Geraldton WA, Australia', 'global_code': '5P3P6J94+C9'}, 'rating': 3.9, 'reference': 'ChIJ8b-W8ZBG2isRAyXD-A0BHW4', 'scope': 'GOOGLE', 'types': ['lodging', 'point_of_interest', 'establishment'], 'user_ratings_total': 61, 'vicinity': '104 Gregory Street, Geraldton'}], 'status': 'OK'}\n"
     ]
    }
   ],
   "source": [
    "params = {\n",
    "    \"radius\": 5000,\n",
    "    \"type\": \"lodging\",\n",
    "    \"location\": [40, -92],\n",
    "    \"key\": g_key}\n",
    "requests.get(base_url, params=params)\n",
    "print(hotels)"
   ]
  },
  {
   "cell_type": "code",
   "execution_count": 40,
   "id": "5a46dcb4",
   "metadata": {},
   "outputs": [
    {
     "data": {
      "application/vnd.jupyter.widget-view+json": {
       "model_id": "8c0b7ba5f68042d1ba6fe7384f5f8fe4",
       "version_major": 2,
       "version_minor": 0
      },
      "text/plain": [
       "Figure(layout=FigureLayout(height='420px'))"
      ]
     },
     "metadata": {},
     "output_type": "display_data"
    }
   ],
   "source": [
    "# Add a heatmap of temperature for the vacation spots and marker for each city.\n",
    "locations = hotel_df[[\"Lat\", \"Lng\"]]\n",
    "max_temp = hotel_df[\"Max Temp\"]\n",
    "fig = gmaps.figure(center=(30.0, 31.0), zoom_level=1.5)\n",
    "heat_layer = gmaps.heatmap_layer(locations, weights=max_temp,\n",
    "             dissipating=False, max_intensity=300, point_radius=4)\n",
    "marker_layer = gmaps.marker_layer(locations)\n",
    "fig.add_layer(heat_layer)\n",
    "fig.add_layer(marker_layer)\n",
    "# Call the figure to plot the data.\n",
    "fig"
   ]
  },
  {
   "cell_type": "code",
   "execution_count": 41,
   "id": "39420ae3",
   "metadata": {},
   "outputs": [],
   "source": [
    "info_box_template = \"\"\"\n",
    "<dl>\n",
    "<dt>Hotel Name</dt><dd>{Hotel Name}</dd>\n",
    "<dt>City</dt><dd>{City}</dd>\n",
    "<dt>Country</dt><dd>{Country}</dd>\n",
    "<dt>Max Temp</dt><dd>{Max Temp} °F</dd>\n",
    "</dl>\n",
    "\"\"\""
   ]
  },
  {
   "cell_type": "code",
   "execution_count": 42,
   "id": "4b7f1b29",
   "metadata": {},
   "outputs": [],
   "source": [
    "# Store the DataFrame Row.\n",
    "hotel_info = [info_box_template.format(**row) for index, row in hotel_df.iterrows()]"
   ]
  },
  {
   "cell_type": "code",
   "execution_count": 43,
   "id": "e6112d83",
   "metadata": {},
   "outputs": [
    {
     "data": {
      "application/vnd.jupyter.widget-view+json": {
       "model_id": "266268192ebd42f0a9bfaff184883b39",
       "version_major": 2,
       "version_minor": 0
      },
      "text/plain": [
       "Figure(layout=FigureLayout(height='420px'))"
      ]
     },
     "metadata": {},
     "output_type": "display_data"
    }
   ],
   "source": [
    "# Add a heatmap of temperature for the vacation spots and a pop-up marker for each city.\n",
    "locations = hotel_df[[\"Lat\", \"Lng\"]]\n",
    "max_temp = hotel_df[\"Max Temp\"]\n",
    "fig = gmaps.figure(center=(30.0, 31.0), zoom_level=1.5)\n",
    "heat_layer = gmaps.heatmap_layer(locations, weights=max_temp,dissipating=False,\n",
    "             max_intensity=300, point_radius=4)\n",
    "marker_layer = gmaps.marker_layer(locations, info_box_content=hotel_info)\n",
    "fig.add_layer(heat_layer)\n",
    "fig.add_layer(marker_layer)\n",
    "\n",
    "# Call the figure to plot the data.\n",
    "fig"
   ]
  },
  {
   "cell_type": "code",
   "execution_count": null,
   "id": "66d4f439",
   "metadata": {},
   "outputs": [],
   "source": []
  }
 ],
 "metadata": {
  "interpreter": {
   "hash": "4f1c79eed0317ee5651c77388dadfdc3f107de03d664819ff068ca42e0f02d9b"
  },
  "kernelspec": {
   "display_name": "Python 3 (ipykernel)",
   "language": "python",
   "name": "python3"
  },
  "language_info": {
   "codemirror_mode": {
    "name": "ipython",
    "version": 3
   },
   "file_extension": ".py",
   "mimetype": "text/x-python",
   "name": "python",
   "nbconvert_exporter": "python",
   "pygments_lexer": "ipython3",
   "version": "3.9.7"
  }
 },
 "nbformat": 4,
 "nbformat_minor": 5
}
