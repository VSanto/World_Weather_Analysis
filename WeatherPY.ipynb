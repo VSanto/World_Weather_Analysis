{
 "cells": [
  {
   "cell_type": "code",
   "execution_count": 1,
   "id": "cd4c7219",
   "metadata": {},
   "outputs": [],
   "source": [
    "# Import the dependencies.\n",
    "import pandas as pd\n",
    "import matplotlib.pyplot as plt\n",
    "import numpy as np\n"
   ]
  },
  {
   "cell_type": "code",
   "execution_count": 2,
   "id": "7b373005",
   "metadata": {},
   "outputs": [
    {
     "data": {
      "text/plain": [
       "<zip at 0x2358f59e9c0>"
      ]
     },
     "execution_count": 2,
     "metadata": {},
     "output_type": "execute_result"
    }
   ],
   "source": [
    "# Create a set of random latitude and longitude combinations.\n",
    "lats = np.random.uniform(low=-90.000, high=90.000, size=1500)\n",
    "lngs = np.random.uniform(low=-180.000, high=180.000, size=1500)\n",
    "lat_lngs = zip(lats, lngs)\n",
    "lat_lngs"
   ]
  },
  {
   "cell_type": "code",
   "execution_count": 3,
   "id": "f3535fc0",
   "metadata": {},
   "outputs": [],
   "source": [
    "# Create a practice set of random latitude and longitude combinations.\n",
    "x = [25.12903645, 25.92017388, 26.62509167, -59.98969384, 37.30571269]\n",
    "y = [-67.59741259, 11.09532135, 74.84233102, -76.89176677, -61.13376282]\n",
    "coordinates = zip(x, y)"
   ]
  },
  {
   "cell_type": "code",
   "execution_count": 4,
   "id": "031feb27",
   "metadata": {},
   "outputs": [
    {
     "name": "stdout",
     "output_type": "stream",
     "text": [
      "25.12903645 -67.59741259\n",
      "25.92017388 11.09532135\n",
      "26.62509167 74.84233102\n",
      "-59.98969384 -76.89176677\n",
      "37.30571269 -61.13376282\n"
     ]
    }
   ],
   "source": [
    "# Use the tuple() function to display the latitude and longitude combinations.\n",
    "for coordinate in coordinates:\n",
    "    print(coordinate[0], coordinate[1])"
   ]
  },
  {
   "cell_type": "code",
   "execution_count": 5,
   "id": "2ad0f4ee",
   "metadata": {},
   "outputs": [],
   "source": [
    "# Add the latitudes and longitudes to a list.\n",
    "coordinates = list(lat_lngs)\n"
   ]
  },
  {
   "cell_type": "code",
   "execution_count": 6,
   "id": "257e5d23",
   "metadata": {},
   "outputs": [],
   "source": [
    "# Use the citipy module to determine city based on latitude and longitude.\n",
    "from citipy import citipy"
   ]
  },
  {
   "cell_type": "code",
   "execution_count": 9,
   "id": "68e40064",
   "metadata": {},
   "outputs": [
    {
     "data": {
      "text/plain": [
       "622"
      ]
     },
     "execution_count": 9,
     "metadata": {},
     "output_type": "execute_result"
    }
   ],
   "source": [
    "# Create a list for holding the cities.\n",
    "cities = []\n",
    "# Identify the nearest city for each latitude and longitude combination.\n",
    "for coordinate in coordinates:\n",
    "    city = citipy.nearest_city(coordinate[0], coordinate[1]).city_name\n",
    "\n",
    "    # If the city is unique, then we will add it to the cities list.\n",
    "    if city not in cities:\n",
    "        cities.append(city)\n",
    "# Print the city count to confirm sufficient count.\n",
    "len(cities)"
   ]
  },
  {
   "cell_type": "code",
   "execution_count": 10,
   "id": "16a2dd2c",
   "metadata": {},
   "outputs": [
    {
     "name": "stdout",
     "output_type": "stream",
     "text": [
      "['kargasok', 'marsa matruh', 'hobart', 'bredasdorp', 'port elizabeth', 'ushuaia', 'college', 'port hardy', 'okhotsk', 'bambous virieux', 'calama', 'rikitea', 'vao', 'canala', 'puteyets', 'bayevo', 'saskylakh', 'punta arenas', 'pisco', 'redlands', 'teahupoo', 'obo', 'baykit', 'shar', 'lompoc', 'sangar', 'barentsburg', 'torbay', 'esil', 'hasaki', 'cabedelo', 'lavrentiya', 'samusu', 'kodiak', 'pokrovskoye', 'abnub', 'cidreira', 'east london', 'norman wells', 'severo-kurilsk', 'vestmannaeyjar', 'saint-philippe', 'bur gabo', 'tsihombe', 'hilo', 'zolotinka', 'jamestown', 'hermanus', 'mahebourg', 'butaritari', 'slyudyanka', 'coquimbo', 'albany', 'castro', 'provideniya', 'milingimbi', 'jaque', 'gallup', 'avarua', 'vaini', 'pevek', 'panaba', 'san patricio', 'illoqqortoormiut', 'bluff', 'alberton', 'nome', 'marawi', 'rawson', 'mataura', 'mehamn', 'kapaa', 'imbituba', 'chapais', 'touros', 'makinsk', 'esperance', 'kamenskoye', 'chuy', 'bokoro', 'ljubimec', 'amderma', 'tasiilaq', 'salalah', 'avera', 'guymon', 'kisangani', 'ostrovnoy', 'saint-augustin', 'husavik', 'povenets', 'visby', 'los alamos', 'louisbourg', 'khasan', 'busselton', 'port augusta', 'buala', 'gat', 'nikolskoye', 'port alfred', 'kirundo', 'chumikan', 'souillac', 'beisfjord', 'sindor', 'tortoli', 'atuona', 'thompson', 'talnakh', 'attawapiskat', 'toliary', 'sola', 'flinders', 'biak', 'yaan', 'sorvag', 'orebro', 'faanui', 'spiridonovka', 'tawkar', 'acari', 'isabela', 'ilulissat', 'yellowknife', 'labutta', 'athmallik', 'codajas', 'rizhao', 'bethel', 'port-gentil', 'korcula', 'nicoya', 'simbahan', 'george', 'prince rupert', 'pochutla', 'cape town', 'arraial do cabo', 'tuatapere', 'carnarvon', 'rio grande', 'karangasem', 'grand gaube', 'alice springs', 'amapa', 'belle fourche', 'teya', 'samarai', 'yagodnoye', 'rapid city', 'santiago', 'waingapu', 'shimoda', 'new norfolk', 'luderitz', 'bilma', 'nantucket', 'ucluelet', 'longlac', 'saldanha', 'barrow', 'upernavik', 'rafraf', 'vaitupu', 'phalaborwa', 'senanga', 'porto santo', 'atar', 'cherskiy', 'mandalgarh', 'whitehorse', 'hanamaki', 'shingu', 'mjolby', 'ballina', 'armacao dos buzios', 'belmonte', 'ancud', 'airai', 'olafsvik', 'ulladulla', 'naze', 'lebu', 'sakakah', 'tayoltita', 'caravelas', 'iqaluit', 'mount gambier', 'hami', 'aquiraz', 'mazatlan', 'murray', 'qaanaaq', 'belushya guba', 'tuktoyaktuk', 'huarmey', 'faridpur', 'nishihara', 'ribeira grande', 'vavuniya', 'half moon bay', 'puerto ayora', 'fort-shevchenko', 'chokurdakh', 'tamisan', 'sao joao da barra', 'chicama', 'narsaq', 'kotka', 'arti', 'chipata', 'inta', 'nosy varika', 'lethem', 'marsh harbour', 'ahipara', 'uruzgan', 'isangel', 'chilca', 'rocha', 'vila velha', 'moerai', 'poronaysk', 'cardston', 'petropavlovsk-kamchatskiy', 'hidalgotitlan', 'muli', 'alappuzha', 'beringovskiy', 'kommunar', 'buzmeyin', 'progreso', 'pacific grove', 'dalhousie', 'jumla', 'san pedro', 'birjand', 'letlhakeng', 'havre-saint-pierre', 'bengkulu', 'bahia blanca', 'ketchikan', 'misratah', 'taolanaro', 'betsiamites', 'juneau', 'saint george', 'pafos', 'zhezkazgan', 'natchitoches', 'constitucion', 'sibolga', 'krasnoselkup', 'luanda', 'grand baie', 'victoria', 'abu dhabi', 'yulara', 'beyneu', 'tarsus', 'kholodnyy', 'agadez', 'hithadhoo', 'byron bay', 'mollendo', 'gorele', 'boddam', 'evans', 'umzimvubu', 'diffa', 'plettenberg bay', 'marcona', 'tiruvottiyur', 'poum', 'valleyview', 'noshiro', 'harper', 'chadan', 'shitanjing', 'tumannyy', 'rungata', 'belyy yar', 'ambilobe', 'jaitaran', 'lagoa', 'geraldton', 'hofn', 'priupskiy', 'longyearbyen', 'cabo san lucas', 'north platte', 'brigham city', 'safaga', 'ekuvukeni', 'oxapampa', 'yar-sale', 'dikson', 'vila franca do campo', 'lensk', 'nyurba', 'sabang', 'linapacan', 'bereda', 'yarada', 'fort nelson', 'baoying', 'genas', 'mayahi', 'waipawa', 'camacha', 'obihiro', 'iberia', 'emerald', 'selizharovo', 'sitka', 'jimma', 'zorritos', 'portmore', 'karlskoga', 'moose factory', 'mount pleasant', 'sambava', 'henties bay', 'svirsk', 'puerto carreno', 'khandyga', 'romans-sur-isere', 'maceio', 'hede', 'amahai', 'kirakira', 'port lincoln', 'comodoro rivadavia', 'bantry', 'porto novo', 'hovd', 'goure', 'georgetown', 'mackay', 'jizan', 'itacarambi', 'ozinki', 'corinto', 'totness', 'karasjok', 'san quintin', 'ugoofaaru', 'constantine', 'westport', 'ranong', 'saint-pierre', 'pangnirtung', 'kavaratti', 'xichang', 'ambulu', 'zyryanka', 'bani walid', 'praia da vitoria', 'tual', 'galich', 'ventspils', 'ondangwa', 'deputatskiy', 'marshfield', 'boissevain', 'chillicothe', 'erenhot', 'matameye', 'nago', 'katsuura', 'aberdeen', 'muhoroni', 'kedrovyy', 'la tuque', 'saint anthony', 'belaya gora', 'jalu', 'koson', 'singaraja', 'aizpute', 'ostersund', 'esso', 'mabaruma', 'la rioja', 'grindavik', 'makat', 'kununurra', 'nizhneyansk', 'sept-iles', 'sao filipe', 'russell', 'anchorage', 'khatanga', 'kaeo', 'carballo', 'oranjemund', 'alferrarede', 'clonakilty', 'grand river south east', 'fortuna', 'kondinskoye', 'taksimo', 'nanortalik', 'richards bay', 'kaitangata', 'wanning', 'arica', 'vostok', 'lazaro cardenas', 'north bend', 'barra dos coqueiros', 'lasa', 'halalo', 'lorengau', 'raahe', 'abu zabad', 'chernyshevskiy', 'srednekolymsk', 'ashland', 'shirokiy', 'tiksi', 'hambantota', 'smithers', 'clyde river', 'vardo', 'isiro', 'tapaua', 'atamanovka', 'san antonio', 'margate', 'azangaro', 'mar del plata', 'sentyabrskiy', 'fairbanks', 'zachagansk', 'sovetskiy', 'bubaque', 'peleduy', 'raudeberg', 'mahajanga', 'talara', 'semibratovo', 'anadyr', 'saint-denis', 'yala', 'bathsheba', 'saint-marc', 'oriximina', 'hokitika', 'shelui', 'karaul', 'ayan', 'batagay-alyta', 'moussoro', 'northam', 'aiquile', 'grand centre', 'sunndalsora', 'hay river', 'muhos', 'arys', 'asfi', 'duxbury', 'itaberai', 'havelock', 'saleaula', 'carutapera', 'skibotn', 'murwillumbah', 'kleck', 'palu', 'coihaique', 'havre', 'jutai', 'karratha', 'alofi', 'labuhan', 'orlik', 'sabha', 'padang', 'eregli', 'beaverlodge', 'carmen', 'merauke', 'boyolangu', 'socorro', 'san martin', 'aksarka', 'poole', 'vestbygda', 'general roca', 'manuk mangkaw', 'balad', 'san-pedro', 'hornepayne', 'chimbote', 'crotone', 'safwah', 'kholm-zhirkovskiy', 'faya', 'pilar', 'vanderhoof', 'saurimo', 'ahuimanu', 'waitati', 'moron', 'ponta do sol', 'shintomi', 'mandali', 'tateyama', 'nelson bay', 'magdagachi', 'saint-raymond', 'buraydah', 'darhan', 'aborlan', 'tura', 'pokaran', 'naron', 'sabana de torres', 'payo', 'tuma', 'cochabamba', 'sampit', 'meyungs', 'rosa zarate', 'sidi ali', 'fukue', 'leningradskiy', 'namatanai', 'high rock', 'eyrarbakki', 'wamba', 'melfort', 'karema', 'ust-kulom', 'vila', 'maketu', 'ngunguru', 'san clemente', 'tigzirt', 'catuday', 'turayf', 'praya', 'hattiesburg', 'mogadishu', 'kavieng', 'teguldet', 'nanchang', 'te anau', 'hamilton', 'kruisfontein', 'lakhisarai', 'nadym', 'ygatimi', 'krapivinskiy', 'dongning', 'pizarro', 'piripiri', 'sumbawa', 'upington', 'le port', 'pangai', 'araouane', 'houma', 'kinshasa', 'korablino', 'isla mujeres', 'skegness', 'abha', 'vrangel', 'san cristobal', 'bollnas', 'la romana', 'huanren', 'mujiayingzi', 'saint cloud', 'pimentel', 'tono', 'nokaneng', 'synya', 'sydney mines', 'paamiut', 'auki', 'portland', 'chitungwiza', 'kahului', 'kieta', 'viligili', 'ipubi', 'luwingu', 'coromandel', 'aquidauana', 'umm lajj', 'salinas', 'immokalee', 'maryborough', 'tay ninh', 'srivardhan', 'komsomolskiy', 'ler', 'gubkinskiy', 'korla', 'salinopolis', 'yichang', 'pitimbu', 'yatou', 'hobyo', 'nuuk', 'khonuu', 'la ronge', 'nouakchott', 'mabamba', 'qui nhon', 'okoneshnikovo', 'pouembout', 'inongo', 'aleksandro-nevskiy', 'ploufragan', 'storforshei', 'rio gallegos']\n"
     ]
    }
   ],
   "source": [
    "print(cities)"
   ]
  }
 ],
 "metadata": {
  "kernelspec": {
   "display_name": "PythonData",
   "language": "python",
   "name": "pythondata"
  },
  "language_info": {
   "codemirror_mode": {
    "name": "ipython",
    "version": 3
   },
   "file_extension": ".py",
   "mimetype": "text/x-python",
   "name": "python",
   "nbconvert_exporter": "python",
   "pygments_lexer": "ipython3",
   "version": "3.9.7"
  }
 },
 "nbformat": 4,
 "nbformat_minor": 5
}
